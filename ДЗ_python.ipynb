{
  "cells": [
    {
      "cell_type": "markdown",
      "metadata": {
        "id": "5y1_7Kjl6U12"
      },
      "source": [
        "В этой задаче вам нужно реализовать класс `Polynomial` для работы с многочленами. Методы, которые будут проверяться в задаче прописаны далее. Вам не запрещается добавлять свои функции, переменные или методы, однако запрещается менять названия предоставленных методов. Разрешается использовать только стандартную библиотеку Python. "
      ]
    },
    {
      "cell_type": "markdown",
      "metadata": {
        "id": "YqhvBqsp6gUz"
      },
      "source": [
        "**Совет #1:** заранее подумайте, какую структуру данных использовать для хранения коэффициентов.\n",
        "\n",
        "**Совет #2:** продумайте реализацию метода `__str__`, при грамотном подходе код метода должен занимать не более 30 строчек."
      ]
    },
    {
      "cell_type": "markdown",
      "metadata": {
        "id": "M3Y15x9h6qs0"
      },
      "source": [
        "### Требования к реализации\n",
        "\n",
        "- Конструктор `__init__` позволяет построить многочлен\n",
        "    - по списку коэффициентов, в котором первым идет свободный член\n",
        "\n",
        "        ```python\n",
        "        In[1] : print(Polynomial([1, 2, 3]))\n",
        "        Out[1]: 3x^2 + 2x + 1\n",
        "        ```\n",
        "\n",
        "    - по словарю вида `{степень: коэффициент}`\n",
        "\n",
        "        ```python\n",
        "        In[2] : print(Polynomial({0:-3, 2:1, 5:4}))\n",
        "        Out[2]: 4x^5 + x^2 - 3\n",
        "        ```\n",
        "\n",
        "    - по другому многочлену\n",
        "\n",
        "        ```python\n",
        "        In[3] : poly = Polynomial({0:-3, 2:1, 5:4})\n",
        "           ...: poly_copy = Polynomial(poly)\n",
        "        ```\n",
        "\n",
        "    - по набору коэффициентов, в котором первым идет свободной член\n",
        "\n",
        "        ```python\n",
        "        In[4] : print(Polynomial(0, 2, 0, 5))\n",
        "        Out[4]: 5x^3 + 2x\n",
        "        ```\n",
        "\n",
        "  **Примечания:**\n",
        "\n",
        "- Для корректной работы `print` нужно перегрузить `__str__` определенный ниже\n",
        "- Для сравнения типов используйте [isinstance](https://pythoner.name/isinstance-type)\n",
        "- Создание функции с переменным количеством аргументов\n",
        "- Перегруженный метод `__repr__`, который будет возвращать строку вида: `Polynomial <список коэффициентов>`\n",
        "\n",
        "    ```python\n",
        "    In[10] : Polynomial(1, 2, 3, 0, 0, 0, 5, 0, 0)\n",
        "    Out[10]: Polynomial [1, 2, 3, 0, 0, 0, 5]\n",
        "\n",
        "    In[11] : repr(Polynomial(2, 3))\n",
        "    Out[11]: Polynomial [2, 3]\n",
        "    ```\n",
        "\n",
        "    **Примечание:**\n",
        "\n",
        "    - [Difference between str and repr?](https://stackoverflow.com/questions/1436703/difference-between-str-and-repr)\n",
        "- Перегруженный метод `__str__`, возвращающий строковое представление объекта. Многочлен должен выводиться начиная от старшей степени. Должны быть приведены подобные, отсутствовать нулевые коэффициенты, а также не должно быть единичных коэффициентов и степеней. Примеры:\n",
        "\n",
        "    ```python\n",
        "    In[7] : print(Polynomial(0, 2, 0, 5))\n",
        "    Out[7]: 5x^3 + 2x\n",
        "\n",
        "    In[8] : print(Polynomial([7, -2, 0, 1]))\n",
        "    Out[8]: x^3 - 2x + 7\n",
        "\n",
        "    In[9] : print(Polynomial([7, -2, 0, -1]))\n",
        "    Out[9]: -x^3 - 2x + 7\n",
        "    ```\n",
        "\n",
        "- Перегруженные операторы `+, - (в том числе унарный)`. Также должны поддерживаться арифметические операции с числами.\n",
        "- Перегруженный оператор `==` для сравнение многочленов на равенство между собой и с числами\n",
        "- Метод `degree` возвращающий степень многочлена\n",
        "\n",
        "    ```python\n",
        "    In[13] : poly = Polynomial(1, 2, 3)\n",
        "        ...: print(poly.degree())\n",
        "    Out[13]: 2\n",
        "    ```\n",
        "\n",
        "- Метод `der(self, d=1)` который вычисляет производную степени `d`\n",
        "- Перегруженный оператор `__call__` позволяющий вычислить значение многочлена в точке\n",
        "\n",
        "    ```python\n",
        "    In[12] : poly = Polynomial(1, 2, 3)\n",
        "        ...: print(poly(1))\n",
        "    Out[12]: 6\n",
        "    ```\n",
        "\n",
        "- Перегруженный оператор `*`, в том числе и для умножения на числа.\n",
        "- Перегруженные методы `__iter__` и `__next__` позволяющие проитерироваться по многочлену. На каждом шаге итерации должна возвращаться пара вида `(степень, коэффициент)`\n",
        "\n",
        "    ```python\n",
        "    In [3]: for i in p:\n",
        "       ...:     print(i)\n",
        "       ...:\n",
        "    (0, 1)\n",
        "    (1, 2)\n",
        "    (2, 3)\n",
        "    ```\n",
        "\n",
        "    **Примечание:**\n",
        "\n",
        "    - [Подробнее про итераторы](https://www.programiz.com/python-programming/iterator)\n",
        "\n",
        "### Starter code\n",
        "\n",
        "\n",
        "- `polynomial.py`\n",
        "\n",
        "    ```python\n",
        "    # polynomial.py\n",
        "\n",
        "    class Polynomial:\n",
        "\n",
        "        def __init__(self, *coefficients):\n",
        "\n",
        "        def __repr__(self):\n",
        "\n",
        "        def __str__(self):\n",
        "\n",
        "        def __eq__(self, other):\n",
        "\n",
        "        def __add__(self, other):\n",
        "\n",
        "        def __radd__(self, other):\n",
        "\n",
        "        def __neg__(self):\n",
        "\n",
        "        def __sub__(self, other):\n",
        "\n",
        "        def __rsub__(self, other):\n",
        "\n",
        "        def __call__(self, x):\n",
        "    \t\t\n",
        "        def degree(self):\n",
        "\n",
        "        def der(self, d=1):\n",
        "\n",
        "        def __mul__(self, other):\n",
        "\n",
        "        def __rmul__(self, other):\n",
        "\n",
        "        def __iter__(self):\n",
        "\n",
        "        def __next__(self):\n",
        "\n",
        "    ```"
      ]
    },
    {
      "cell_type": "code",
      "execution_count": null,
      "metadata": {
        "id": "AfbEF1kA6g-P"
      },
      "outputs": [],
      "source": [
        "class Polynomial:\n",
        "    def __init__(self, *coefficients) -> None:\n",
        "        self.coefficients = []\n",
        "        el = next(iter(coefficients))\n",
        "        if isinstance(el, (int, float)):\n",
        "            for coef in coefficients:\n",
        "                self.coefficients.append(coef)\n",
        "        elif isinstance(el, list):\n",
        "            self.coefficients = el\n",
        "        elif isinstance(el, dict):\n",
        "            keys = list(el.keys())\n",
        "            keys.sort()\n",
        "            mx = max(keys)\n",
        "            self.coefficients = [0] * (mx + 1)\n",
        "            for i in el:\n",
        "                self.coefficients[i] = el[i]\n",
        "        elif isinstance(el, Polynomial):\n",
        "            self.coefficients = el.coefficients\n",
        "        else:\n",
        "            raise ValueError(\"Invalid representation\")\n",
        "\n",
        "        self.n = len(self.coefficients)\n",
        "        self.view_polynomial = self.build_view(self.coefficients)\n",
        "        self.__idx = 0\n",
        "\n",
        "    def build_view(self, coefs) -> None:\n",
        "        n = len(coefs)\n",
        "        if n == 1:\n",
        "            return str(coefs[0])\n",
        "        view_polynomial = \"\"\n",
        "        for ch, v in enumerate(coefs[::-1]):\n",
        "            if v == 0:\n",
        "                continue\n",
        "\n",
        "            if v > 0 and ch != 0:\n",
        "                view_polynomial += f\"+\"\n",
        "\n",
        "            if abs(v) != 1 or ch == n - 1:\n",
        "                view_polynomial += str(v)\n",
        "            elif v == -1:\n",
        "                view_polynomial += \"-\"\n",
        "\n",
        "            if ch != n - 1:\n",
        "                view_polynomial += \"x\"\n",
        "\n",
        "            if ch < n - 2:\n",
        "                view_polynomial += f\"^{n - ch - 1}\"\n",
        "        return view_polynomial\n",
        "\n",
        "    def __repr__(self) -> str:\n",
        "        str_coefs = [str(i) for i in self.coefficients]\n",
        "        return \"Polynomial [\" + \",\".join(str_coefs) + \"]\"\n",
        "\n",
        "    def __str__(self) -> str:\n",
        "        return self.view_polynomial\n",
        "\n",
        "    def __eq__(self, pol) -> bool:\n",
        "        return self.coefficients == pol.coefficients\n",
        "\n",
        "    def __add__(self, pol):\n",
        "        if isinstance(pol, (int, float)):\n",
        "            self.coefficients[0] += pol\n",
        "            return Polynomial(self.coefficients)\n",
        "        m = len(pol.coefficients)\n",
        "        k = 1\n",
        "        mn_size = min(self.n, m)\n",
        "        tmp = []\n",
        "        while k <= mn_size:\n",
        "            tmp.append(self.coefficients[k - 1] + pol.coefficients[k - 1])\n",
        "            k += 1\n",
        "        mx_size = max(self.n, m)\n",
        "        while k <= mx_size:\n",
        "            if m > self.n:\n",
        "                tmp.append(pol.coefficients[k - 1])\n",
        "            else:\n",
        "                tmp.append(self.coefficients[k - 1])\n",
        "            k += 1\n",
        "        return Polynomial(tmp)\n",
        "\n",
        "    def __radd__(self, pol):\n",
        "        return self + pol\n",
        "\n",
        "    def __neg__(self):\n",
        "        tmp = []\n",
        "        for i in range(len(self.coefficients)):\n",
        "            tmp.append(-self.coefficients[i])\n",
        "        return Polynomial(tmp)\n",
        "\n",
        "    def __sub__(self, pol):\n",
        "        return self + (-pol)\n",
        "\n",
        "    def __rsub__(self, pol):\n",
        "        return -self + pol\n",
        "\n",
        "    def __call__(self, x):\n",
        "        value = self.coefficients[0]\n",
        "        for i in range(1, len(self.coefficients)):\n",
        "            value += self.coefficients[i] * (x ** i)\n",
        "        return value\n",
        "\n",
        "    def degree(self):\n",
        "        return len(self.coefficients) - 1\n",
        "\n",
        "    def der(self, d=1):\n",
        "        proiz_coefs = [0] * self.n\n",
        "        if d > self.degree():\n",
        "            return 0\n",
        "\n",
        "        copy_coefs = self.coefficients[::-1]\n",
        "        for i in range(self.n - d):\n",
        "            proiz_coefs[i] = (\n",
        "                copy_coefs[i]\n",
        "                * self.fact(self.n - i - 1)\n",
        "                // self.fact(self.n - i - 1 - d)\n",
        "            )\n",
        "\n",
        "        proiz_coefs = proiz_coefs[: self.n - d][::-1]\n",
        "        return self.build_view(proiz_coefs)\n",
        "\n",
        "    def fact(self, n):\n",
        "        if n == 0 or n == 1:\n",
        "            return 1\n",
        "        val = 1\n",
        "        for i in range(2, n + 1):\n",
        "            val *= i\n",
        "        return val\n",
        "\n",
        "    def __mul__(self, other):\n",
        "        if isinstance(other, (int, float)):\n",
        "            tmp = [0] * self.n\n",
        "            for i in range(self.n):\n",
        "                tmp[i] = other * self.coefficients[i]\n",
        "            return Polynomial(tmp)\n",
        "        elif isinstance(other, Polynomial):\n",
        "            tmp = [0] * (len(self.coefficients) + len(other.coefficients) - 1)\n",
        "            for idx1, coef1 in enumerate(self.coefficients):\n",
        "                for idx2, coef2 in enumerate(other.coefficients):\n",
        "                    tmp[idx1 + idx2] += coef1 * coef2\n",
        "            return Polynomial(tmp)\n",
        "\n",
        "    def __rmul__(self, other):\n",
        "        return self * other\n",
        "\n",
        "    def __iter__(self):\n",
        "        return self\n",
        "\n",
        "    def __next__(self):\n",
        "        if self.__idx >= len(self.coefficients):\n",
        "            raise StopIteration\n",
        "        pair = (self.__idx, self.coefficients[self.__idx])\n",
        "        self.__idx += 1\n",
        "        return pair\n"
      ]
    },
    {
      "cell_type": "code",
      "execution_count": null,
      "metadata": {
        "colab": {
          "base_uri": "https://localhost:8080/"
        },
        "id": "yYALyyPdg3hB",
        "outputId": "f10f043a-6a68-46bd-8e4c-31dd4102122c"
      },
      "outputs": [
        {
          "output_type": "stream",
          "name": "stdout",
          "text": [
            "0\n"
          ]
        }
      ],
      "source": [
        "pol1 = Polynomial(0)\n",
        "print(pol1)"
      ]
    },
    {
      "cell_type": "code",
      "source": [
        "pol1"
      ],
      "metadata": {
        "colab": {
          "base_uri": "https://localhost:8080/"
        },
        "id": "oySjOYEqio9N",
        "outputId": "ab5344a8-6406-4e19-dce7-2483dfa41de9"
      },
      "execution_count": null,
      "outputs": [
        {
          "output_type": "execute_result",
          "data": {
            "text/plain": [
              "Polynomial [0]"
            ]
          },
          "metadata": {},
          "execution_count": 6
        }
      ]
    },
    {
      "cell_type": "code",
      "execution_count": null,
      "metadata": {
        "colab": {
          "base_uri": "https://localhost:8080/"
        },
        "id": "93EOhLMQczPO",
        "outputId": "521431bf-66ca-42d0-955e-bb3a5a86cb92"
      },
      "outputs": [
        {
          "output_type": "stream",
          "name": "stdout",
          "text": [
            "Polynomial [1,2,3]\n",
            "3x^2+2x+1\n"
          ]
        },
        {
          "output_type": "execute_result",
          "data": {
            "text/plain": [
              "Polynomial [1,2,3]"
            ]
          },
          "metadata": {},
          "execution_count": 8
        }
      ],
      "source": [
        "pol2 = Polynomial(1,2,3)\n",
        "print(pol2.__repr__())\n",
        "print(pol2.__str__())\n",
        "pol2"
      ]
    },
    {
      "cell_type": "code",
      "source": [
        "print(pol2)"
      ],
      "metadata": {
        "colab": {
          "base_uri": "https://localhost:8080/"
        },
        "id": "3ZjMgzVUiq-X",
        "outputId": "f826e67e-fdbb-4941-ebed-4a4b12e29f90"
      },
      "execution_count": null,
      "outputs": [
        {
          "output_type": "stream",
          "name": "stdout",
          "text": [
            "3x^2+2x+1\n"
          ]
        }
      ]
    },
    {
      "cell_type": "code",
      "execution_count": null,
      "metadata": {
        "colab": {
          "base_uri": "https://localhost:8080/"
        },
        "id": "1EXJbXMHg-QS",
        "outputId": "0271d578-4d0a-4130-e9c9-f6ec162ef0eb"
      },
      "outputs": [
        {
          "output_type": "stream",
          "name": "stdout",
          "text": [
            "6x^4+5x^3+6\n"
          ]
        }
      ],
      "source": [
        "pol2 = Polynomial({0:6, 3:5, 4:6})\n",
        "print(pol2)"
      ]
    },
    {
      "cell_type": "code",
      "execution_count": null,
      "metadata": {
        "colab": {
          "background_save": true,
          "base_uri": "https://localhost:8080/"
        },
        "id": "uSBel8NhhpKy",
        "outputId": "6f1a27be-4a27-4783-e065-d89c1d94e4e6"
      },
      "outputs": [
        {
          "name": "stdout",
          "output_type": "stream",
          "text": [
            "7x^5+4x^3+3x^2+2x+1 14x^5+8x^3+6x^2+4x+2\n",
            "21x^5+12x^3+9x^2+6x+3\n",
            "-7x^5-4x^3-3x^2-2x-1\n",
            "98x^10+112x^8+84x^7+88x^6+76x^5+50x^4+40x^3+20x^2+8x+2\n"
          ]
        }
      ],
      "source": [
        "pol3 = Polynomial([1, 2, 3, 4, 0, 7])\n",
        "pol4 = Polynomial(pol3) * 2\n",
        "print(pol3, pol4)\n",
        "print(pol3 + pol4)\n",
        "print(pol3 - pol4)\n",
        "print(pol3 * pol4)"
      ]
    },
    {
      "cell_type": "code",
      "execution_count": null,
      "metadata": {
        "colab": {
          "background_save": true,
          "base_uri": "https://localhost:8080/"
        },
        "id": "WPsWlNdMiYH0",
        "outputId": "800d09d8-8f8a-42f0-f4b7-0cab7807fbef"
      },
      "outputs": [
        {
          "name": "stdout",
          "output_type": "stream",
          "text": [
            "18x^4+27x^3+34x^2+17x+6\n",
            "6\n",
            "5\n",
            "140x^3+24x+6\n"
          ]
        }
      ],
      "source": [
        "pol5 = Polynomial([1,2,3])\n",
        "pol6 = Polynomial([6,5,6])\n",
        "print(pol5 * pol6)\n",
        "print(pol5(1))\n",
        "print(pol4.degree())\n",
        "print(pol3.der(2))"
      ]
    },
    {
      "cell_type": "code",
      "execution_count": null,
      "metadata": {
        "colab": {
          "background_save": true,
          "base_uri": "https://localhost:8080/"
        },
        "id": "69egZV6Zifpc",
        "outputId": "ef65ddf3-ea67-4166-e098-58311ba4264a"
      },
      "outputs": [
        {
          "name": "stdout",
          "output_type": "stream",
          "text": [
            "(0, 2)\n",
            "(1, 4)\n",
            "(2, 6)\n",
            "(3, 8)\n",
            "(4, 0)\n",
            "(5, 14)\n"
          ]
        }
      ],
      "source": [
        "for k in pol4:\n",
        "  print(k)"
      ]
    },
    {
      "cell_type": "code",
      "execution_count": null,
      "metadata": {
        "colab": {
          "background_save": true,
          "base_uri": "https://localhost:8080/"
        },
        "id": "ctNkrpU2jpdk",
        "outputId": "9f40a096-d7eb-4e0f-f20c-b29f6210a250"
      },
      "outputs": [
        {
          "name": "stdout",
          "output_type": "stream",
          "text": [
            "True\n",
            "False\n"
          ]
        }
      ],
      "source": [
        "pol8 = Polynomial(1,2,3,4,5)\n",
        "pol9 = Polynomial(pol8) \n",
        "print(pol8 == pol9)\n",
        "pol9 *=2\n",
        "print(pol8 == pol9)"
      ]
    },
    {
      "cell_type": "code",
      "source": [
        "pol10 = Polynomial([1,2,3])\n",
        "print(pol10 - 5)"
      ],
      "metadata": {
        "colab": {
          "base_uri": "https://localhost:8080/"
        },
        "id": "idIv50QkWqoT",
        "outputId": "992ed1e6-53d7-4334-f84d-f060ac795e81"
      },
      "execution_count": null,
      "outputs": [
        {
          "output_type": "stream",
          "name": "stdout",
          "text": [
            "3x^2+2x-4\n"
          ]
        }
      ]
    },
    {
      "cell_type": "code",
      "execution_count": null,
      "metadata": {
        "colab": {
          "background_save": true
        },
        "id": "pqRUDnxjJv3i"
      },
      "outputs": [],
      "source": [
        "# pol1 = Polynomial([1,2,3])\n",
        "# pol2 = Polynomial([6,5,6])\n",
        "# pol3 = Polynomial([2, 4, -3, 0, 40])\n",
        "# # print(pol1.__rsub__(pol2))\n",
        "# # print(2 * pol1)\n",
        "# # print(pol1)\n",
        "# print(pol1.der(d=1))\n",
        "# for k in pol2:\n",
        "#   print(k)"
      ]
    }
  ],
  "metadata": {
    "colab": {
      "provenance": []
    },
    "kernelspec": {
      "display_name": "Python 3",
      "name": "python3"
    },
    "language_info": {
      "name": "python"
    }
  },
  "nbformat": 4,
  "nbformat_minor": 0
}